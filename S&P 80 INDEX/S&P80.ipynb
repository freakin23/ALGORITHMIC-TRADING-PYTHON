{
 "cells": [
  {
   "attachments": {},
   "cell_type": "markdown",
   "id": "51a91253",
   "metadata": {},
   "source": [
    "# S&P 80 Index \n",
    "\n",
    "## Library Imports\n",
    "Importing the important open-source software libraries "
   ]
  },
  {
   "cell_type": "code",
   "execution_count": 2,
   "id": "737000fa",
   "metadata": {},
   "outputs": [],
   "source": [
    "import numpy as np\n",
    "import pandas as pd\n",
    "import math\n",
    "import requests\n",
    "import xlsxwriter\n",
    "import random"
   ]
  },
  {
   "attachments": {},
   "cell_type": "markdown",
   "id": "41bf9354",
   "metadata": {},
   "source": [
    "# Importing Our List of Stocks\n",
    "\n",
    "We are importing our list of stocks from <span style='background:#D3D3D3'> \"STOCKS_DATA.csv\"   </span>"
   ]
  },
  {
   "cell_type": "code",
   "execution_count": 5,
   "id": "1babceba",
   "metadata": {},
   "outputs": [],
   "source": [
    "filename = \"STOCKS_DATA.csv\"\n",
    "total_number_of_stocks = sum(1 for line in open(filename)) - 1\n",
    "limit = 80\n",
    "skip = sorted(random.sample(range(1, total_number_of_stocks + 1), total_number_of_stocks - limit))\n",
    "df = pd.read_csv(filename, skiprows = skip)\n",
    "# print(df.to_string())\n",
    "# print(df)"
   ]
  },
  {
   "attachments": {},
   "cell_type": "markdown",
   "id": "e58c2b3f",
   "metadata": {},
   "source": [
    "# Acquiring an API Token\n",
    "\n",
    "We are importing our TwelveData API token. This is the data provider that we are using in our project."
   ]
  },
  {
   "cell_type": "code",
   "execution_count": 3,
   "id": "ec6a0cb6",
   "metadata": {},
   "outputs": [],
   "source": [
    "from onepiece import API_KEY"
   ]
  },
  {
   "attachments": {},
   "cell_type": "markdown",
   "id": "782aaa63",
   "metadata": {},
   "source": [
    "# Making Our First API Call\n",
    "\n",
    "Now it's time to structure our API calls to TwelveData\n",
    "\n",
    "The Data we need are :\n",
    "- Price of stock\n",
    "- Volume of stock\n",
    "- Excahange name"
   ]
  },
  {
   "cell_type": "code",
   "execution_count": 4,
   "id": "318e73ae",
   "metadata": {},
   "outputs": [
    {
     "name": "stdout",
     "output_type": "stream",
     "text": [
      "{'meta': {'symbol': 'ZTS', 'interval': '1day', 'currency': 'USD', 'exchange_timezone': 'America/New_York', 'exchange': 'NYSE', 'mic_code': 'XNYS', 'type': 'Common Stock'}, 'values': [{'datetime': '2023-06-30', 'open': '173.28999', 'high': '174.67999', 'low': '171.67000', 'close': '172.21001', 'volume': '2061100'}], 'status': 'ok'}\n"
     ]
    }
   ],
   "source": [
    "symbol = 'ZTS'\n",
    "api_url = f'https://api.twelvedata.com/time_series?start_date=2023-06-30&outputsize=1&symbol={symbol}&interval=1day&apikey={API_KEY}'\n",
    "data = requests.get(api_url).json()\n",
    "print(data)"
   ]
  },
  {
   "cell_type": "code",
   "execution_count": 8,
   "id": "bc671947",
   "metadata": {},
   "outputs": [],
   "source": [
    "# print(df)"
   ]
  },
  {
   "attachments": {},
   "cell_type": "markdown",
   "id": "ff02ad85",
   "metadata": {},
   "source": [
    "### Storing all Stocks name in one particular List"
   ]
  },
  {
   "cell_type": "code",
   "execution_count": 9,
   "id": "1527db13",
   "metadata": {},
   "outputs": [],
   "source": [
    "stocks_name = []\n",
    "for x in df['Ticker']:\n",
    "    stocks_name.append(x)\n",
    "    \n",
    "# print(stocks_name)\n",
    "# print(len(stocks_name) % 8)"
   ]
  },
  {
   "attachments": {},
   "cell_type": "markdown",
   "id": "dbd913ca",
   "metadata": {},
   "source": [
    "### Storing every 8 stocks in one List \n",
    "\n",
    "(since we are only allowed 8 API call per minute from TwelveData)"
   ]
  },
  {
   "cell_type": "code",
   "execution_count": 10,
   "id": "7245756c",
   "metadata": {},
   "outputs": [],
   "source": [
    "st = []\n",
    "for i in range(0, len(stocks_name), 8):\n",
    "    new_st = stocks_name[i : i + 8]\n",
    "    st.append(new_st)\n",
    "    # print(new_st)\n",
    "    \n",
    "# print(st)"
   ]
  },
  {
   "attachments": {},
   "cell_type": "markdown",
   "id": "a7dc2093",
   "metadata": {},
   "source": [
    "# Looping Through The Tickers in Our List of Stocks\n",
    "\n",
    "Using the same logic that we outlined above, we are pulling data for all the accessible stocks available in our List and storing particular imformation in their particular list."
   ]
  },
  {
   "cell_type": "code",
   "execution_count": 11,
   "id": "1ee897f3",
   "metadata": {},
   "outputs": [],
   "source": [
    "ticker_name = []\n",
    "price = []\n",
    "volume_val = []\n",
    "shares_to_buy = []\n",
    "exchange = []\n",
    "import time \n",
    "for i in range(0, len(st)):\n",
    "    a = st[i]\n",
    "    for ticker in a:\n",
    "        batch_api_url = f'https://api.twelvedata.com/time_series?start_date=2023-06-30&outputsize=1&symbol={ticker}&interval=1day&apikey={API_KEY}'\n",
    "        data = requests.get(batch_api_url).json()\n",
    "        if data['status'] == 'ok':\n",
    "            ticker_name.append(data['meta']['symbol'])\n",
    "            price.append(float(data['values'][0]['open']))\n",
    "            volume_val.append(float(data['values'][0]['volume']))\n",
    "            shares_to_buy.append('N/A')\n",
    "            exchange.append(data['meta']['exchange'])\n",
    "        # print(data)\n",
    "    time.sleep(80)\n"
   ]
  },
  {
   "attachments": {},
   "cell_type": "markdown",
   "id": "9f8f051f",
   "metadata": {},
   "source": [
    "# Adding Our Stocks Data to a Pandas DataFrame\n",
    "\n",
    "The next thing we need to do is add our stock's price, volume, exchange and ticker's name to a pandas DataFrame. Think of a DataFrame like the Python version of a spreadsheet. It stores tabular data."
   ]
  },
  {
   "cell_type": "code",
   "execution_count": 12,
   "id": "d4f3878f",
   "metadata": {},
   "outputs": [
    {
     "name": "stdout",
     "output_type": "stream",
     "text": [
      "   Ticker      Price Shares to Buy Exchange      Volume\n",
      "0     AAL   17.72000           N/A   NASDAQ  18597900.0\n",
      "1    ADSK  207.42000           N/A   NASDAQ   2094800.0\n",
      "2     ALK   52.54000           N/A     NYSE   1555200.0\n",
      "3    AMCR    9.91000           N/A     NYSE   6019900.0\n",
      "4     AMP  334.66000           N/A     NYSE    499400.0\n",
      "..    ...        ...           ...      ...         ...\n",
      "72    VNO   17.49000           N/A     NYSE  11546800.0\n",
      "73    WAT  264.26999           N/A     NYSE    882800.0\n",
      "74    WST  380.10999           N/A     NYSE    353400.0\n",
      "75    XYL  112.23000           N/A     NYSE   1278100.0\n",
      "76    ZBH  146.23000           N/A     NYSE   1281900.0\n",
      "\n",
      "[77 rows x 5 columns]\n"
     ]
    }
   ],
   "source": [
    "data_set = {\n",
    "    'Ticker' : ticker_name,\n",
    "    'Price' : price,\n",
    "    'Shares to Buy' : shares_to_buy,\n",
    "    'Exchange' : exchange,\n",
    "    'Volume' : volume_val\n",
    "}\n",
    "final_df = pd.DataFrame(data_set)\n",
    "print(final_df)"
   ]
  },
  {
   "attachments": {},
   "cell_type": "markdown",
   "id": "72ff6f7d",
   "metadata": {},
   "source": [
    "# Calculating the Number of Shares to Buy\n",
    "\n",
    "As you can see in the DataFrame above, we stil haven't calculated the number of shares of each stock to buy.\n",
    "\n",
    "We'll do that next."
   ]
  },
  {
   "cell_type": "code",
   "execution_count": 13,
   "id": "79e6c39f",
   "metadata": {},
   "outputs": [],
   "source": [
    "portfolio_size = input(\"Enter the value of your portfolio: \")\n",
    "\n",
    "try:\n",
    "    val = float(portfolio_size)\n",
    "except ValueError:\n",
    "    print(\"That's not a number! \\n Try again\")\n",
    "    portfolio_size = input('Enter the value of your portfolio: ')"
   ]
  },
  {
   "cell_type": "code",
   "execution_count": 15,
   "id": "9b20123c",
   "metadata": {},
   "outputs": [
    {
     "name": "stdout",
     "output_type": "stream",
     "text": [
      "   Ticker      Price Shares to Buy Exchange       Volume\n",
      "0     AAL   17.72000         29316   NASDAQ   18597900.0\n",
      "1    ADSK  207.42000          2504   NASDAQ    2094800.0\n",
      "2     ALK   52.54000          9887     NYSE    1555200.0\n",
      "3    AMCR    9.91000         52419     NYSE    6019900.0\n",
      "4     AMP  334.66000          1552     NYSE     499400.0\n",
      "5     AMT  194.27000          2674     NYSE    3243100.0\n",
      "6     BIO  377.57999          1375     NYSE     156300.0\n",
      "7      BK   44.64000         11637     NYSE    3402400.0\n",
      "8     BSX   53.79000          9657     NYSE    7238600.0\n",
      "9    CARR   49.64000         10464     NYSE    4305900.0\n",
      "10   CBOE  137.14000          3787     CBOE     525800.0\n",
      "11    CCL   17.80000         29184     NYSE  114966800.0\n",
      "12     CF   70.73000          7344     NYSE    2095300.0\n",
      "13     CI  277.64001          1871     NYSE    1525000.0\n",
      "14    CMI  243.81000          2130     NYSE     849900.0\n",
      "15    CVX  157.46001          3299     NYSE    6346600.0\n",
      "16    DIS   89.18000          5825     NYSE   12826200.0\n",
      "17    DOV  146.16000          3554     NYSE    1178300.0\n",
      "18    DPZ  332.00000          1564     NYSE     503700.0\n",
      "19    DRI  165.25999          3143     NYSE    1155200.0\n",
      "20     EL  194.11000          2676     NYSE    1603300.0\n",
      "21    EMR   89.59000          5798     NYSE    2484700.0\n",
      "22   EQIX  784.59998           662   NASDAQ     813000.0\n",
      "23     ES   69.76000          7446     NYSE    2550700.0\n",
      "24    ESS  235.48000          2206     NYSE     609700.0\n",
      "25   EXPE  108.91000          4769   NASDAQ    2195500.0\n",
      "26   FAST   58.97000          8809   NASDAQ    2569600.0\n",
      "27   FBHS   72.28000          7187     NYSE          0.0\n",
      "28   FOXA   34.58000         15022   NASDAQ    3015300.0\n",
      "29     GS  325.82001          1594     NYSE    2361200.0\n",
      "30   HSIC   80.97000          6415   NASDAQ     940100.0\n",
      "31    HWM   49.48000         10498     NYSE    2479500.0\n",
      "32    IFF   78.48000          6619     NYSE    1965300.0\n",
      "33   INTC   33.36000         15571   NASDAQ   33798400.0\n",
      "34     IP   31.43000         16528     NYSE    3210200.0\n",
      "35    IRM   56.74000          9155     NYSE    2147700.0\n",
      "36     IT  344.73001          1506     NYSE     420700.0\n",
      "37    JCI   67.79000          7663     NYSE    4120200.0\n",
      "38    KIM   19.96000         26026     NYSE    5166500.0\n",
      "39   LDOS   88.18000          5891     NYSE     817600.0\n",
      "40    MCO  347.19000          1496     NYSE    1037200.0\n",
      "41   NDAQ   50.13000         10362   NASDAQ    3749100.0\n",
      "42    NUE  164.19000          3163     NYSE    1239600.0\n",
      "43    NWL    9.01000         57655   NASDAQ    5358200.0\n",
      "44      O   60.30000          8614     NYSE    7159600.0\n",
      "45   ODFL  377.07001          1377   NASDAQ    1140600.0\n",
      "46   ORLY  947.00000           548   NASDAQ     386200.0\n",
      "47   OTIS   89.34000          5814     NYSE    2776000.0\n",
      "48   PAYX  111.16000          4673   NASDAQ    2943600.0\n",
      "49   PCAR   83.53000          6219   NASDAQ    2979300.0\n",
      "50    PLD  122.55000          4238     NYSE    6598700.0\n",
      "51    PNR   64.30000          8079     NYSE    1402100.0\n",
      "52    PXD  207.50000          2503     NYSE    1274000.0\n",
      "53     RE  341.04999          1523     NYSE     549200.0\n",
      "54    REG   62.15000          8358   NASDAQ    1301300.0\n",
      "55   REGN  710.15997           731   NASDAQ    1015200.0\n",
      "56     RL  123.50000          4206     NYSE     664600.0\n",
      "57    RMD  218.19000          2380     NYSE     852700.0\n",
      "58    ROK  327.14999          1587     NYSE     617000.0\n",
      "59    RSG  151.13000          3437     NYSE    1012900.0\n",
      "60    SEE   39.50000         13151     NYSE    1066400.0\n",
      "61    SLB   49.00000         10601     NYSE   13413300.0\n",
      "62    STE  221.81000          2342     NYSE     760600.0\n",
      "63    TEL  139.53999          3722     NYSE    1518400.0\n",
      "64    TMO  516.47998          1005     NYSE    1315500.0\n",
      "65    TRV  171.84000          3023     NYSE    1250200.0\n",
      "66    TXT   67.88000          7652     NYSE    1067900.0\n",
      "67    UAA    7.23000         71850     NYSE    7788400.0\n",
      "68    UAL   54.39000          9551   NASDAQ   10047200.0\n",
      "69    UPS  176.59000          2941     NYSE    4891700.0\n",
      "70    USB   33.21000         15642     NYSE   15127500.0\n",
      "71    VFC   19.30000         26916     NYSE    4225400.0\n",
      "72    VNO   17.49000         29701     NYSE   11546800.0\n",
      "73    WAT  264.26999          1965     NYSE     882800.0\n",
      "74    WST  380.10999          1366     NYSE     353400.0\n",
      "75    XYL  112.23000          4628     NYSE    1278100.0\n",
      "76    ZBH  146.23000          3552     NYSE    1281900.0\n"
     ]
    }
   ],
   "source": [
    "position_size = float(portfolio_size) / len(final_df.index)\n",
    "for i in range(0, len(final_df['Ticker'])):\n",
    "    final_df.loc[i, 'Shares to Buy'] = math.floor(position_size / final_df['Price'][i])\n",
    "    \n",
    "print(final_df.to_string())"
   ]
  },
  {
   "attachments": {},
   "cell_type": "markdown",
   "id": "f780c4d4",
   "metadata": {},
   "source": [
    "# Formatting Our Excel Output\n",
    "\n",
    "We will be using the XlsxWriter library for Python to create nicely-formatted Excel files.\n",
    "\n",
    "## Initializing our XlsxWriter Object"
   ]
  },
  {
   "cell_type": "code",
   "execution_count": 101,
   "id": "c603700b",
   "metadata": {},
   "outputs": [],
   "source": [
    "writer = pd.ExcelWriter('Trades.xlsx', engine = 'xlsxwriter')\n",
    "final_df.to_excel(writer, sheet_name = 'Trades', index = False, header = False)"
   ]
  },
  {
   "attachments": {},
   "cell_type": "markdown",
   "id": "64725fa5",
   "metadata": {},
   "source": [
    "# Creating the Formats We'll Need For Our <span style='background:#D3D3D3'> .xlsx  </span> File\n",
    "\n",
    "Formats include colors, fonts, and also symbols like <span style='background:#D3D3D3'> %  </span>  and <span style='background:#D3D3D3'> $  </span>. We'll need four main formats for our Excel document:\n",
    "\n",
    "- String format for tickers\n",
    "\n",
    "- $XX.XX format for stock prices\n",
    "\n",
    "- String format for exchange\n",
    "\n",
    "- XXX,XXX format for volume\n",
    "\n"
   ]
  },
  {
   "cell_type": "code",
   "execution_count": 102,
   "id": "ff7feece",
   "metadata": {},
   "outputs": [],
   "source": [
    "background_color = 'white'\n",
    "font_color = 'black'\n",
    "\n",
    "string_format = writer.book.add_format(\n",
    "    {\n",
    "        'font_color': font_color,\n",
    "        'bg_color' : background_color,\n",
    "        'border' : 1\n",
    "    })\n",
    "\n",
    "\n",
    "dollar_format = writer.book.add_format(\n",
    "        {\n",
    "            'num_format':'$0.00',\n",
    "            'font_color': font_color,\n",
    "            'bg_color': background_color,\n",
    "            'border': 1\n",
    "        })\n",
    "\n",
    "\n",
    "integer_format = writer.book.add_format(\n",
    "        {\n",
    "            'num_format':'0',\n",
    "            'font_color': font_color,\n",
    "            'bg_color': background_color,\n",
    "            'border': 1\n",
    "        })"
   ]
  },
  {
   "attachments": {},
   "cell_type": "markdown",
   "id": "747b5cb5",
   "metadata": {},
   "source": [
    "# Applying the Formats to the Columns of Our <span style='background:#D3D3D3'> .xlsx  </span>  File\n",
    "\n",
    "We can use the <span style='background:#D3D3D3'> set_column  </span> method applied to the <span style='background:#D3D3D3'> writer.sheets['Trades']  </span> object to apply formats to specific columns of our spreadsheets.\n",
    "\n",
    "Here's an example:\n",
    "\n",
    "```\n",
    "writer.sheets['Trades'].set_column('B:B', #This tells the method to apply the format to column B\n",
    "                     18, #This tells the method to apply a column width of 18 pixels\n",
    "                     string_format #This applies the format 'string_format' to the column\n",
    "                    )\n",
    "```"
   ]
  },
  {
   "cell_type": "code",
   "execution_count": 103,
   "id": "3514f0db",
   "metadata": {},
   "outputs": [],
   "source": [
    "column_formats = {\n",
    "    'A' : ['Ticker', string_format],\n",
    "    'B' : ['Price', dollar_format],\n",
    "    'C' : ['Shares to Buy', integer_format],\n",
    "    'D' : ['Exchange', string_format],\n",
    "    'E' : ['Volume', integer_format]\n",
    "}\n",
    "\n",
    "for column in column_formats.keys():\n",
    "    writer.sheets['Trades'].set_column(f'{column}:{column}', 20, column_formats[column][1])\n",
    "    writer.sheets['Trades'].write(f'{column}1', column_formats[column][0], string_format)"
   ]
  },
  {
   "attachments": {},
   "cell_type": "markdown",
   "id": "e871728d",
   "metadata": {},
   "source": [
    "# Saving Our Excel Output\n",
    "\n",
    "Saving our Excel file in our device."
   ]
  },
  {
   "cell_type": "code",
   "execution_count": 104,
   "id": "a0dae068",
   "metadata": {},
   "outputs": [],
   "source": [
    "writer.close()"
   ]
  }
 ],
 "metadata": {
  "kernelspec": {
   "display_name": "Python 3",
   "language": "python",
   "name": "python3"
  },
  "language_info": {
   "codemirror_mode": {
    "name": "ipython",
    "version": 3
   },
   "file_extension": ".py",
   "mimetype": "text/x-python",
   "name": "python",
   "nbconvert_exporter": "python",
   "pygments_lexer": "ipython3",
   "version": "3.10.6"
  }
 },
 "nbformat": 4,
 "nbformat_minor": 5
}
